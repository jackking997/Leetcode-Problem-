{
 "cells": [
  {
   "cell_type": "code",
   "execution_count": null,
   "metadata": {},
   "outputs": [],
   "source": [
    "def numRescueBoats(people,limit):\n",
    "        people.sort()\n",
    "        i = 0\n",
    "        j = len(people) - 1\n",
    "        res = 0 \n",
    "        \n",
    "        while j >= i:\n",
    "            if people[i] + people[j] <= limit:\n",
    "                j -= 1\n",
    "                i += 1\n",
    "                res += 1\n",
    "            else:\n",
    "                j -=1\n",
    "                res +=1\n",
    "        \n",
    "        return res "
   ]
  }
 ],
 "metadata": {
  "kernelspec": {
   "display_name": "Python 3",
   "language": "python",
   "name": "python3"
  },
  "language_info": {
   "codemirror_mode": {
    "name": "ipython",
    "version": 3
   },
   "file_extension": ".py",
   "mimetype": "text/x-python",
   "name": "python",
   "nbconvert_exporter": "python",
   "pygments_lexer": "ipython3",
   "version": "3.7.4"
  }
 },
 "nbformat": 4,
 "nbformat_minor": 2
}
