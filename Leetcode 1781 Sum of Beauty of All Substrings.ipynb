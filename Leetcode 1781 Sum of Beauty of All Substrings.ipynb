{
 "cells": [
  {
   "cell_type": "code",
   "execution_count": 5,
   "metadata": {},
   "outputs": [],
   "source": [
    "def beautySum(s):\n",
    "    res = 0\n",
    "        \n",
    "    for i in range(len(s)-1):\n",
    "        count = {}\n",
    "        count[s[i]] = 1\n",
    "        for j in range(i+1, len(s)):\n",
    "            if s[j] in count:\n",
    "                count[s[j]] +=1\n",
    "            else:\n",
    "                count[s[j]] = 1\n",
    "            value = count.values()\n",
    "            res = res + (max(value) - min(value))\n",
    "                    \n",
    "    return res\n",
    "                \n",
    "                    "
   ]
  }
 ],
 "metadata": {
  "kernelspec": {
   "display_name": "Python 3",
   "language": "python",
   "name": "python3"
  },
  "language_info": {
   "codemirror_mode": {
    "name": "ipython",
    "version": 3
   },
   "file_extension": ".py",
   "mimetype": "text/x-python",
   "name": "python",
   "nbconvert_exporter": "python",
   "pygments_lexer": "ipython3",
   "version": "3.7.4"
  }
 },
 "nbformat": 4,
 "nbformat_minor": 2
}
