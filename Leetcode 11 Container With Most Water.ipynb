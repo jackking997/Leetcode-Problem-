{
 "cells": [
  {
   "cell_type": "code",
   "execution_count": 1,
   "metadata": {},
   "outputs": [],
   "source": [
    "def maxArea(height):\n",
    "    i = 0 \n",
    "    j = len(height) - 1\n",
    "    res = 0 \n",
    "        \n",
    "    while j >=i:\n",
    "        if height[i] >= height[j]:\n",
    "            loc_max = height[j] * (j-i)\n",
    "            res = max(res,loc_max)\n",
    "            j -=1\n",
    "        else:\n",
    "            loc_max = height[i] * (j-i)\n",
    "            res = max(res,loc_max)\n",
    "            i +=1\n",
    "    return res "
   ]
  }
 ],
 "metadata": {
  "kernelspec": {
   "display_name": "Python 3",
   "language": "python",
   "name": "python3"
  },
  "language_info": {
   "codemirror_mode": {
    "name": "ipython",
    "version": 3
   },
   "file_extension": ".py",
   "mimetype": "text/x-python",
   "name": "python",
   "nbconvert_exporter": "python",
   "pygments_lexer": "ipython3",
   "version": "3.7.4"
  }
 },
 "nbformat": 4,
 "nbformat_minor": 2
}
