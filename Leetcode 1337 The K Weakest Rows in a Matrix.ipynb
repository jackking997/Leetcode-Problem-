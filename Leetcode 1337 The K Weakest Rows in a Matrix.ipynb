{
 "cells": [
  {
   "cell_type": "code",
   "execution_count": null,
   "metadata": {},
   "outputs": [],
   "source": [
    "def kWeakestRows(mat, k):\n",
    "    count = {}        \n",
    "    for i in range(len(mat)):\n",
    "        count[i] = sum(mat[i])\n",
    "        \n",
    "    res = list(i for i in range(len(mat)))\n",
    "        \n",
    "    res.sort(key = lambda x : count[x])\n",
    "\n",
    "    return res[:k]\n",
    "        \n",
    "        \n",
    "        "
   ]
  }
 ],
 "metadata": {
  "kernelspec": {
   "display_name": "Python 3",
   "language": "python",
   "name": "python3"
  },
  "language_info": {
   "codemirror_mode": {
    "name": "ipython",
    "version": 3
   },
   "file_extension": ".py",
   "mimetype": "text/x-python",
   "name": "python",
   "nbconvert_exporter": "python",
   "pygments_lexer": "ipython3",
   "version": "3.7.4"
  }
 },
 "nbformat": 4,
 "nbformat_minor": 2
}
