{
 "cells": [
  {
   "cell_type": "code",
   "execution_count": null,
   "metadata": {},
   "outputs": [],
   "source": [
    "def partitionLabels(s):  \n",
    "    last_seen = {c: i for i,c in enumerate(s)}\n",
    "    res = []\n",
    "    l = 0\n",
    "        \n",
    "    for i in range(len(s)):\n",
    "        l = max(l, last_seen[s[i]])\n",
    "        if l == i:\n",
    "            res.append(l + 1 - sum(res[:]))\n",
    "                \n",
    "    return res \n",
    "        \n",
    "        "
   ]
  }
 ],
 "metadata": {
  "kernelspec": {
   "display_name": "Python 3",
   "language": "python",
   "name": "python3"
  },
  "language_info": {
   "codemirror_mode": {
    "name": "ipython",
    "version": 3
   },
   "file_extension": ".py",
   "mimetype": "text/x-python",
   "name": "python",
   "nbconvert_exporter": "python",
   "pygments_lexer": "ipython3",
   "version": "3.7.4"
  }
 },
 "nbformat": 4,
 "nbformat_minor": 2
}
