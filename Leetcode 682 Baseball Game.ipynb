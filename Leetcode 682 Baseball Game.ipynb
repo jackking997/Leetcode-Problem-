{
 "cells": [
  {
   "cell_type": "code",
   "execution_count": 5,
   "metadata": {},
   "outputs": [],
   "source": [
    "def calPoints(ops):\n",
    "        \n",
    "    stack = []\n",
    "        \n",
    "    for op in ops:\n",
    "        if op == \"+\":\n",
    "            stack.append(stack[-1] + stack[-2])\n",
    "        elif op == \"D\":\n",
    "            stack.append(stack[-1] * 2)\n",
    "        elif op == \"C\":\n",
    "            stack.pop()\n",
    "        else:\n",
    "            stack.append(int(op))\n",
    "                \n",
    "    return sum(stack)\n",
    "        "
   ]
  }
 ],
 "metadata": {
  "kernelspec": {
   "display_name": "Python 3",
   "language": "python",
   "name": "python3"
  },
  "language_info": {
   "codemirror_mode": {
    "name": "ipython",
    "version": 3
   },
   "file_extension": ".py",
   "mimetype": "text/x-python",
   "name": "python",
   "nbconvert_exporter": "python",
   "pygments_lexer": "ipython3",
   "version": "3.7.4"
  }
 },
 "nbformat": 4,
 "nbformat_minor": 2
}
