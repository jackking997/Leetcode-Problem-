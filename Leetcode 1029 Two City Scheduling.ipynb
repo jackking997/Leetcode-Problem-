{
 "cells": [
  {
   "cell_type": "code",
   "execution_count": 4,
   "metadata": {},
   "outputs": [],
   "source": [
    "def twoCitySchedCost(self, costs: List[List[int]]) -> int:\n",
    "    costs.sort(key = lambda x : x[1] - x[0])\n",
    "    res = 0\n",
    "        \n",
    "    for i in range(len(costs)// 2):\n",
    "        res += costs[i][1]\n",
    "            \n",
    "    for j in range(len(costs)//2, len(costs)):\n",
    "        res += costs[j][0]        \n",
    "        \n",
    "    return res \n",
    "        \n",
    "        \n",
    "        "
   ]
  }
 ],
 "metadata": {
  "kernelspec": {
   "display_name": "Python 3",
   "language": "python",
   "name": "python3"
  },
  "language_info": {
   "codemirror_mode": {
    "name": "ipython",
    "version": 3
   },
   "file_extension": ".py",
   "mimetype": "text/x-python",
   "name": "python",
   "nbconvert_exporter": "python",
   "pygments_lexer": "ipython3",
   "version": "3.7.4"
  }
 },
 "nbformat": 4,
 "nbformat_minor": 2
}
